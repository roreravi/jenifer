{
 "cells": [
  {
   "cell_type": "code",
   "execution_count": 1,
   "id": "7fbee1e9",
   "metadata": {},
   "outputs": [
    {
     "name": "stdout",
     "output_type": "stream",
     "text": [
      "Archivo 'datos_aleatorios.csv' generado exitosamente con 1000 registros.\n"
     ]
    }
   ],
   "source": [
    "import csv\n",
    "import random\n",
    "\n",
    "# --- Configuración ---\n",
    "NOMBRE_ARCHIVO = 'datos_aleatorios.csv'\n",
    "NUM_REGISTROS = 1000\n",
    "\n",
    "# Rangos para 'desde' y 'hasta'\n",
    "RANGO_MIN_NUMERO = 0\n",
    "RANGO_MAX_NUMERO = 5000\n",
    "DIFERENCIA_MINIMA_DESDE_HASTA = 365\n",
    "\n",
    "# Rangos para 'cantidad' (montos en euros)\n",
    "RANGO_MIN_CANTIDAD = 1000\n",
    "RANGO_MAX_CANTIDAD = 1000000\n",
    "\n",
    "# --- Lógica de generación ---\n",
    "\n",
    "# Para asegurar que 'hasta' pueda ser mayor que 'desde' por al menos DIFERENCIA_MINIMA_DESDE_HASTA\n",
    "# y que 'hasta' no supere RANGO_MAX_NUMERO, 'desde' no puede ser demasiado alto.\n",
    "# El valor máximo que puede tomar 'desde' es: RANGO_MAX_NUMERO - (DIFERENCIA_MINIMA_DESDE_HASTA + 1)\n",
    "# Ejemplo: si MAX_NUMERO es 5000 y DIF_MIN es 365,\n",
    "# hasta_min = desde + 365 + 1\n",
    "# Si desde = 4634, hasta_min = 4634 + 366 = 5000. hasta puede ser 5000.\n",
    "# Si desde = 4635, hasta_min = 4635 + 366 = 5001 (fuera de rango para 'hasta')\n",
    "# Entonces, el rango máximo para 'desde' es RANGO_MAX_NUMERO - (DIFERENCIA_MINIMA_DESDE_HASTA + 1)\n",
    "# que es RANGO_MAX_NUMERO - DIFERENCIA_MINIMA_DESDE_HASTA - 1\n",
    "MAX_VALOR_PARA_DESDE = RANGO_MAX_NUMERO - (DIFERENCIA_MINIMA_DESDE_HASTA + 1)\n",
    "\n",
    "if MAX_VALOR_PARA_DESDE < RANGO_MIN_NUMERO:\n",
    "    raise ValueError(\"La configuración de rangos y diferencia mínima hace imposible generar datos válidos.\")\n",
    "\n",
    "datos_generados = []\n",
    "\n",
    "for _ in range(NUM_REGISTROS):\n",
    "    # Generar 'desde'\n",
    "    # Puede ir desde RANGO_MIN_NUMERO hasta el máximo calculado para que 'hasta' sea válido\n",
    "    desde = random.randint(RANGO_MIN_NUMERO, MAX_VALOR_PARA_DESDE)\n",
    "\n",
    "    # Generar 'hasta'\n",
    "    # Debe ser al menos 'desde' + DIFERENCIA_MINIMA_DESDE_HASTA + 1\n",
    "    # Y como máximo RANGO_MAX_NUMERO\n",
    "    min_hasta_posible = desde + DIFERENCIA_MINIMA_DESDE_HASTA + 1\n",
    "    hasta = random.randint(min_hasta_posible, RANGO_MAX_NUMERO)\n",
    "\n",
    "    # Generar 'cantidad'\n",
    "    cantidad = random.randint(RANGO_MIN_CANTIDAD, RANGO_MAX_CANTIDAD)\n",
    "\n",
    "    datos_generados.append([desde, hasta, cantidad])\n",
    "\n",
    "# --- Escritura del archivo CSV ---\n",
    "try:\n",
    "    with open(NOMBRE_ARCHIVO, 'w', newline='', encoding='utf-8') as archivo_csv:\n",
    "        escritor_csv = csv.writer(archivo_csv)\n",
    "        \n",
    "        # Escribir la cabecera\n",
    "        escritor_csv.writerow(['desde', 'hasta', 'cantidad'])\n",
    "        \n",
    "        # Escribir los datos\n",
    "        escritor_csv.writerows(datos_generados)\n",
    "        \n",
    "    print(f\"Archivo '{NOMBRE_ARCHIVO}' generado exitosamente con {NUM_REGISTROS} registros.\")\n",
    "\n",
    "except IOError:\n",
    "    print(f\"Error: No se pudo escribir en el archivo '{NOMBRE_ARCHIVO}'. Verifica los permisos.\")\n",
    "except ValueError as ve:\n",
    "    print(f\"Error de configuración: {ve}\")"
   ]
  }
 ],
 "metadata": {
  "kernelspec": {
   "display_name": "Python 3",
   "language": "python",
   "name": "python3"
  },
  "language_info": {
   "codemirror_mode": {
    "name": "ipython",
    "version": 3
   },
   "file_extension": ".py",
   "mimetype": "text/x-python",
   "name": "python",
   "nbconvert_exporter": "python",
   "pygments_lexer": "ipython3",
   "version": "3.10.12"
  }
 },
 "nbformat": 4,
 "nbformat_minor": 5
}
